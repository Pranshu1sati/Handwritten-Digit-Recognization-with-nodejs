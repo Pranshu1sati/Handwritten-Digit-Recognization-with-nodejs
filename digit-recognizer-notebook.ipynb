{
  "nbformat": 4,
  "nbformat_minor": 0,
  "metadata": {
    "colab": {
      "name": "Digit-Recognizer.ipynb",
      "provenance": [],
      "collapsed_sections": []
    },
    "kernelspec": {
      "name": "python3",
      "display_name": "Python 3"
    },
    "accelerator": "GPU"
  },
  "cells": [
    {
      "cell_type": "markdown",
      "metadata": {
        "id": "K_YntzlsRNWx",
        "colab_type": "text"
      },
      "source": [
        "# Digit Recognizer\n",
        "\n",
        "Arun Pandian R.\n",
        "\n",
        "A Deep Learning CNN based model which can recognize handwritten digits. It is built on machine learning framework Tensorflow along with Keras. The model architecture is slighlty modified version of [LeNet-5](http://yann.lecun.com/exdb/publis/pdf/lecun-01a.pdf) Architecture proposed by Yann LeCun in 1998. This is Deep Convolutional Neural Network of 5 layers. This notebook is created in and for running the notebook in [Google Colab](https://colab.research.google.com). It takes approximately 2mins to train on Colab's Tesla GPU which Google offers for free.\n",
        "\n",
        "## **Table of Contents**\n",
        "\n",
        "\n",
        "1. **Importing Dependencies**\n",
        "2. **Data Preparation**\n",
        "* **2.1 Loading Dataset**\n",
        "* **2.2 Check for null and missing values**\n",
        "* **2.3 Normalisation**\n",
        "* **2.4 Reshape**\n",
        "* **2.5 Label Encoding**\n",
        "* **2.6 Train and Validation Data Split**\n",
        "3. **CNN Model**\n",
        "* **3.1 Model Architecture Definition**\n",
        "* **3.2 Optimizer and Annealer Initialisation**\n",
        "* **3.3 Data Augmentation**\n",
        "4. **Model Training and Evaluation**\n",
        "* **4.1 Model Training**\n",
        "* **4.2 Learning Curve**\n",
        "* **4.2 Confusion Matrix**\n",
        "* **4.3 Displaying the errors**\n",
        "5. **Model Save**\n",
        "\n",
        "\n",
        "\n",
        "\n",
        "\n",
        "\n"
      ]
    },
    {
      "cell_type": "markdown",
      "metadata": {
        "id": "zQHYkAoVUMKi",
        "colab_type": "text"
      },
      "source": [
        "## 1. Importing Dependencies"
      ]
    },
    {
      "cell_type": "code",
      "metadata": {
        "id": "LYlQnHuARMFQ",
        "colab_type": "code",
        "outputId": "85c52ef4-7143-46e7-eed0-ab97fd27eaa3",
        "colab": {
          "base_uri": "https://localhost:8080/",
          "height": 51
        }
      },
      "source": [
        "# Importing Tensorflow and keras\n",
        "#Keras is built into TF 2.0\n",
        "\n",
        "import tensorflow as tf\n",
        "from tensorflow.keras import layers\n",
        "from tensorflow.keras.preprocessing.image import ImageDataGenerator\n",
        "import pandas as pd\n",
        "import numpy as np\n",
        "import seaborn as sns\n",
        "import matplotlib.pyplot as plt\n",
        "import matplotlib.image as img\n",
        "%matplotlib inline\n",
        "\n",
        "\n",
        "np.random.seed(2)\n",
        "\n",
        "from sklearn.model_selection import train_test_split\n",
        "from sklearn.metrics import confusion_matrix\n",
        "import itertools\n",
        "\n",
        "#Setting the Theme of the data visualizer Seaborn\n",
        "sns.set(style=\"white\",context=\"notebook\",palette=\"deep\")\n",
        "\n",
        "#Tensorflow Version\n",
        "print(\"Tensorflow Version:\"+tf.version.VERSION)\n",
        "print(\"Keras Version      \"+tf.keras.__version__)"
      ],
      "execution_count": 7,
      "outputs": [
        {
          "output_type": "stream",
          "text": [
            "Tensorflow Version:2.2.0-rc2\n",
            "Keras Version      2.3.0-tf\n"
          ],
          "name": "stdout"
        }
      ]
    },
    {
      "cell_type": "markdown",
      "metadata": {
        "id": "WEPDqrJLUWEi",
        "colab_type": "text"
      },
      "source": [
        "##2.Data Preparation"
      ]
    },
    {
      "cell_type": "markdown",
      "metadata": {
        "id": "ISCeQ8sr9e5q",
        "colab_type": "text"
      },
      "source": [
        "###2.1 Data Loading"
      ]
    },
    {
      "cell_type": "code",
      "metadata": {
        "id": "kJQAzoToY-Eb",
        "colab_type": "code",
        "outputId": "f2f76a37-09ef-4ead-923b-f41b2d517ca1",
        "colab": {
          "base_uri": "https://localhost:8080/",
          "height": 119
        }
      },
      "source": [
        "import os\n",
        "os.environ['KAGGLE_USERNAME'] = \"xxxxxx\" # username from the json file\n",
        "os.environ['KAGGLE_KEY'] = \"xxxxxxxxxxxxxxxxxxxxxx\" # key from the json file\n",
        "!kaggle competitions download -c digit-recognizer\n",
        "!unzip train.csv.zip"
      ],
      "execution_count": 2,
      "outputs": [
        {
          "output_type": "stream",
          "text": [
            "Warning: Looks like you're using an outdated API Version, please consider updating (server 1.5.6 / client 1.5.4)\n",
            "test.csv.zip: Skipping, found more recently modified local copy (use --force to force download)\n",
            "sample_submission.csv: Skipping, found more recently modified local copy (use --force to force download)\n",
            "train.csv.zip: Skipping, found more recently modified local copy (use --force to force download)\n",
            "Archive:  train.csv.zip\n",
            "  inflating: train.csv               \n"
          ],
          "name": "stdout"
        }
      ]
    },
    {
      "cell_type": "code",
      "metadata": {
        "id": "UutK5S_rUGmH",
        "colab_type": "code",
        "colab": {}
      },
      "source": [
        "train = pd.read_csv(\"/content/drive/My Drive/Digit Recognition Project/train.csv\")\n"
      ],
      "execution_count": 0,
      "outputs": []
    },
    {
      "cell_type": "code",
      "metadata": {
        "id": "05yoL078UJIp",
        "colab_type": "code",
        "outputId": "16e5b167-7439-4b5d-e77d-5acec88a1e6c",
        "colab": {
          "base_uri": "https://localhost:8080/",
          "height": 472
        }
      },
      "source": [
        "Y_train = train[\"label\"]\n",
        "\n",
        "#Dropping Label Column\n",
        "X_train = train.drop(labels=[\"label\"],axis=1)\n",
        "\n",
        "#free up some space\n",
        "del train\n",
        "\n",
        "graph = sns.countplot(Y_train)\n",
        " \n",
        "Y_train.value_counts()"
      ],
      "execution_count": 0,
      "outputs": [
        {
          "output_type": "execute_result",
          "data": {
            "text/plain": [
              "1    4684\n",
              "7    4401\n",
              "3    4351\n",
              "9    4188\n",
              "2    4177\n",
              "6    4137\n",
              "0    4132\n",
              "4    4072\n",
              "8    4063\n",
              "5    3795\n",
              "Name: label, dtype: int64"
            ]
          },
          "metadata": {
            "tags": []
          },
          "execution_count": 4
        },
        {
          "output_type": "display_data",
          "data": {
            "image/png": "[encoded data removed]",
            "text/plain": [
              "<Figure size 432x288 with 1 Axes>"
            ]
          },
          "metadata": {
            "tags": []
          }
        }
      ]
    },
    {
      "cell_type": "markdown",
      "metadata": {
        "id": "Vg7ysL049yLh",
        "colab_type": "text"
      },
      "source": [
        "###2.2 Checking for Null or NaN values"
      ]
    },
    {
      "cell_type": "code",
      "metadata": {
        "id": "jGSazKXLXRtA",
        "colab_type": "code",
        "outputId": "526d09de-fd1e-4a4e-c60a-d485db15e9d3",
        "colab": {
          "base_uri": "https://localhost:8080/",
          "height": 102
        }
      },
      "source": [
        "#Checking for any null or missing values\n",
        "X_train.isnull().any().describe()\n",
        "\n",
        "test.isnull().any().describe()\n"
      ],
      "execution_count": 0,
      "outputs": [
        {
          "output_type": "execute_result",
          "data": {
            "text/plain": [
              "count       784\n",
              "unique        1\n",
              "top       False\n",
              "freq        784\n",
              "dtype: object"
            ]
          },
          "metadata": {
            "tags": []
          },
          "execution_count": 5
        }
      ]
    },
    {
      "cell_type": "markdown",
      "metadata": {
        "id": "xJQsCTooXv1X",
        "colab_type": "text"
      },
      "source": [
        "###2.3 Normalisation"
      ]
    },
    {
      "cell_type": "code",
      "metadata": {
        "id": "pTFl1nLqXpSy",
        "colab_type": "code",
        "colab": {}
      },
      "source": [
        "X_train = X_train/255\n",
        "test = test/255"
      ],
      "execution_count": 0,
      "outputs": []
    },
    {
      "cell_type": "markdown",
      "metadata": {
        "id": "0Lx2A8K8YAKn",
        "colab_type": "text"
      },
      "source": [
        "###2.4 Reshape"
      ]
    },
    {
      "cell_type": "code",
      "metadata": {
        "id": "RgJra9a4X9U1",
        "colab_type": "code",
        "colab": {}
      },
      "source": [
        "X_train = X_train.values.reshape(-1,28,28,1)\n",
        "test = test.values.reshape(-1,28,28,1)"
      ],
      "execution_count": 0,
      "outputs": []
    },
    {
      "cell_type": "markdown",
      "metadata": {
        "id": "GSbzJTHlYkhS",
        "colab_type": "text"
      },
      "source": [
        "### 2.5 Label Encoding"
      ]
    },
    {
      "cell_type": "code",
      "metadata": {
        "id": "U7DvS95KYrVa",
        "colab_type": "code",
        "colab": {}
      },
      "source": [
        "Y_train = tf.keras.utils.to_categorical(Y_train, num_classes=10)\n",
        "#To enable label into hot vector. For Eg.7 -> [0,0,0,0,0,0,0,1,0,0]"
      ],
      "execution_count": 0,
      "outputs": []
    },
    {
      "cell_type": "code",
      "metadata": {
        "id": "HUz1lMAAZLFC",
        "colab_type": "code",
        "colab": {}
      },
      "source": [
        "#Spliting Train and test set\n",
        "\n",
        "random_seed =2"
      ],
      "execution_count": 0,
      "outputs": []
    },
    {
      "cell_type": "markdown",
      "metadata": {
        "id": "15zkjcF2-Hek",
        "colab_type": "text"
      },
      "source": [
        "### 2.6 Train and Validation Dataset Split"
      ]
    },
    {
      "cell_type": "code",
      "metadata": {
        "id": "UUBksBY12L8V",
        "colab_type": "code",
        "colab": {}
      },
      "source": [
        "X_train,X_val,Y_train,Y_val = train_test_split(X_train,Y_train,test_size=0.1,\n",
        "                                                random_state = random_seed)\n"
      ],
      "execution_count": 0,
      "outputs": []
    },
    {
      "cell_type": "code",
      "metadata": {
        "id": "KVNgcZ5F3Ap5",
        "colab_type": "code",
        "outputId": "d2f4f9e8-74b6-404b-adf0-353f591d5ded",
        "colab": {
          "base_uri": "https://localhost:8080/",
          "height": 268
        }
      },
      "source": [
        "#Show some example \n",
        "\n",
        "g = plt.imshow(X_train[0][:,:,0])"
      ],
      "execution_count": 0,
      "outputs": [
        {
          "output_type": "display_data",
          "data": {
            "image/png": "[encoded data removed]",
            "text/plain": [
              "<Figure size 432x288 with 1 Axes>"
            ]
          },
          "metadata": {
            "tags": []
          }
        }
      ]
    },
    {
      "cell_type": "markdown",
      "metadata": {
        "id": "tU1XRCKr3e0n",
        "colab_type": "text"
      },
      "source": [
        "##3.CNN Model"
      ]
    },
    {
      "cell_type": "markdown",
      "metadata": {
        "id": "CtmNzQO8-T7f",
        "colab_type": "text"
      },
      "source": [
        "### 3.1 Model architecture Definition"
      ]
    },
    {
      "cell_type": "code",
      "metadata": {
        "id": "kpkANohy3TaJ",
        "colab_type": "code",
        "colab": {}
      },
      "source": [
        "#CNN Architecture is In -> [[Conv2D->relu]*2 -> MaxPool2D -> Dropout]*2 -> \n",
        "                           #Flatten -> Dense -> Dropout -> Out\n",
        "model = tf.keras.Sequential()\n",
        "\n",
        "model.add(layers.Conv2D(filters=32, kernel_size=(5,5), padding='Same', \n",
        "                       activation=tf.nn.relu, input_shape = (28,28,1)))\n",
        "model.add(layers.Conv2D(filters=32, kernel_size=(5,5), padding='Same', \n",
        "                       activation=tf.nn.relu))\n",
        "model.add(layers.MaxPool2D(pool_size=(2,2)))\n",
        "model.add(layers.Dropout(0.25))\n",
        "\n",
        "\n",
        "model.add(layers.Conv2D(filters=64, kernel_size=(3,3), padding='Same', \n",
        "                       activation=tf.nn.relu))\n",
        "model.add(layers.Conv2D(filters=64, kernel_size=(3,3), padding='Same', \n",
        "                       activation=tf.nn.relu))\n",
        "model.add(layers.MaxPool2D(pool_size=(2,2),strides=(2,2)))\n",
        "model.add(layers.Dropout(0.25))\n",
        "\n",
        "model.add(layers.Flatten())\n",
        "model.add(layers.Dense(256,activation=tf.nn.relu))\n",
        "model.add(layers.Dropout(0.25))\n",
        "model.add(layers.Dense(10,activation=tf.nn.softmax))"
      ],
      "execution_count": 0,
      "outputs": []
    },
    {
      "cell_type": "markdown",
      "metadata": {
        "id": "eouhmHGN-avP",
        "colab_type": "text"
      },
      "source": [
        "### 3.2 Optimiser and Annealer Initialisation"
      ]
    },
    {
      "cell_type": "code",
      "metadata": {
        "id": "VuN1-e0uPCWy",
        "colab_type": "code",
        "colab": {}
      },
      "source": [
        "#Defining Optimizer\n",
        "\n",
        "optimizer = tf.keras.optimizers.RMSprop(lr=0.001, rho=0.9, epsilon=1e-08, decay=0.0)\n"
      ],
      "execution_count": 0,
      "outputs": []
    },
    {
      "cell_type": "code",
      "metadata": {
        "id": "wiwSpyiYPcIb",
        "colab_type": "code",
        "colab": {}
      },
      "source": [
        "#Compiling Model\n",
        "\n",
        "model.compile(optimizer = optimizer, loss='categorical_crossentropy', \n",
        "             metrics=[\"accuracy\"])  "
      ],
      "execution_count": 0,
      "outputs": []
    },
    {
      "cell_type": "code",
      "metadata": {
        "id": "FqExgW5DQoab",
        "colab_type": "code",
        "colab": {}
      },
      "source": [
        "#Setting Learning rate annealer\n",
        "\n",
        "learning_rate_reduction = tf.keras.callbacks.ReduceLROnPlateau(monitor='val_acc',\n",
        "                                           patience=3,\n",
        "                                           verbose=1,\n",
        "                                           factor=0.5,\n",
        "                                           min_lr=0.00001)"
      ],
      "execution_count": 0,
      "outputs": []
    },
    {
      "cell_type": "code",
      "metadata": {
        "id": "VpoFy1wQRJf8",
        "colab_type": "code",
        "outputId": "5e35141c-30d9-4d69-ab74-bbab379e9a05",
        "colab": {
          "base_uri": "https://localhost:8080/",
          "height": 34
        }
      },
      "source": [
        "epochs=30\n",
        "batch_size = 86\n",
        "print(X_train.shape[0])"
      ],
      "execution_count": 0,
      "outputs": [
        {
          "output_type": "stream",
          "text": [
            "37800\n"
          ],
          "name": "stdout"
        }
      ]
    },
    {
      "cell_type": "markdown",
      "metadata": {
        "id": "E573js59RQVn",
        "colab_type": "text"
      },
      "source": [
        "### 3.3 Data Augmentation"
      ]
    },
    {
      "cell_type": "code",
      "metadata": {
        "id": "lTi2iTMKROwt",
        "colab_type": "code",
        "colab": {}
      },
      "source": [
        "datagen = ImageDataGenerator(\n",
        "        featurewise_center=False,  # set input mean to 0 over the dataset\n",
        "        samplewise_center=False,  # set each sample mean to 0\n",
        "        featurewise_std_normalization=False,  # divide inputs by std of the dataset\n",
        "        samplewise_std_normalization=False,  # divide each input by its std\n",
        "        zca_whitening=False,  # apply ZCA whitening\n",
        "        rotation_range=10,  # randomly rotate images in the range (degrees, 0 to 180)\n",
        "        zoom_range = 0.1, # Randomly zoom image \n",
        "        width_shift_range=0.1,  # randomly shift images horizontally (fraction of total width)\n",
        "        height_shift_range=0.1,  # randomly shift images vertically (fraction of total height)\n",
        "        horizontal_flip=False,  # randomly flip images\n",
        "        vertical_flip=False)  # randomly flip images\n",
        "\n",
        "\n",
        "datagen.fit(X_train)"
      ],
      "execution_count": 0,
      "outputs": []
    },
    {
      "cell_type": "markdown",
      "metadata": {
        "id": "qkX93W-P4iYl",
        "colab_type": "text"
      },
      "source": [
        "## 4. Model Training and Evaluation"
      ]
    },
    {
      "cell_type": "markdown",
      "metadata": {
        "id": "Dn6FLr-r_deO",
        "colab_type": "text"
      },
      "source": [
        "### 4.1 Model Training"
      ]
    },
    {
      "cell_type": "code",
      "metadata": {
        "id": "BYvD4vpOz3_L",
        "colab_type": "code",
        "outputId": "13407804-4096-4cf7-e8e9-f0997dc46723",
        "colab": {
          "base_uri": "https://localhost:8080/",
          "height": 1000
        }
      },
      "source": [
        "# Fit the model\n",
        "history = model.fit_generator(datagen.flow(X_train,Y_train, batch_size=batch_size),\n",
        "                              epochs = epochs, validation_data = (X_val,Y_val),\n",
        "                              verbose = 1, steps_per_epoch=X_train.shape[0] // batch_size\n",
        "                              , callbacks=[learning_rate_reduction])"
      ],
      "execution_count": 0,
      "outputs": [
        {
          "output_type": "stream",
          "text": [
            "Epoch 1/30\n",
            "WARNING:tensorflow:From /tensorflow-1.15.0/python3.6/tensorflow_core/python/ops/math_grad.py:1394: where (from tensorflow.python.ops.array_ops) is deprecated and will be removed in a future version.\n",
            "Instructions for updating:\n",
            "Use tf.where in 2.0, which has the same broadcast rule as np.where\n",
            "437/439 [============================>.] - ETA: 0s - loss: 0.3739 - acc: 0.8804Epoch 1/30\n",
            "4200/439 [===============================================================================================================================================================================================================================================================================================] - 1s 125us/sample - loss: 0.0413 - acc: 0.9814\n",
            "439/439 [==============================] - 36s 83ms/step - loss: 0.3727 - acc: 0.8808 - val_loss: 0.0585 - val_acc: 0.9814\n",
            "Epoch 2/30\n",
            "438/439 [============================>.] - ETA: 0s - loss: 0.1066 - acc: 0.9691Epoch 1/30\n",
            "4200/439 [===============================================================================================================================================================================================================================================================================================] - 0s 113us/sample - loss: 0.0232 - acc: 0.9879\n",
            "439/439 [==============================] - 29s 67ms/step - loss: 0.1065 - acc: 0.9691 - val_loss: 0.0344 - val_acc: 0.9879\n",
            "Epoch 3/30\n",
            "437/439 [============================>.] - ETA: 0s - loss: 0.0773 - acc: 0.9757Epoch 1/30\n",
            "4200/439 [===============================================================================================================================================================================================================================================================================================] - 1s 122us/sample - loss: 0.0225 - acc: 0.9879\n",
            "439/439 [==============================] - 30s 68ms/step - loss: 0.0772 - acc: 0.9757 - val_loss: 0.0377 - val_acc: 0.9879\n",
            "Epoch 4/30\n",
            "438/439 [============================>.] - ETA: 0s - loss: 0.0658 - acc: 0.9798Epoch 1/30\n",
            "4200/439 [===============================================================================================================================================================================================================================================================================================] - 0s 116us/sample - loss: 0.0179 - acc: 0.9905\n",
            "439/439 [==============================] - 30s 68ms/step - loss: 0.0657 - acc: 0.9798 - val_loss: 0.0341 - val_acc: 0.9905\n",
            "Epoch 5/30\n",
            "437/439 [============================>.] - ETA: 0s - loss: 0.0579 - acc: 0.9827Epoch 1/30\n",
            "4200/439 [===============================================================================================================================================================================================================================================================================================] - 1s 121us/sample - loss: 0.0158 - acc: 0.9914\n",
            "439/439 [==============================] - 30s 67ms/step - loss: 0.0578 - acc: 0.9827 - val_loss: 0.0271 - val_acc: 0.9914\n",
            "Epoch 6/30\n",
            "438/439 [============================>.] - ETA: 0s - loss: 0.0547 - acc: 0.9841Epoch 1/30\n",
            "4200/439 [===============================================================================================================================================================================================================================================================================================] - 0s 113us/sample - loss: 0.0105 - acc: 0.9933\n",
            "439/439 [==============================] - 29s 66ms/step - loss: 0.0546 - acc: 0.9841 - val_loss: 0.0207 - val_acc: 0.9933\n",
            "Epoch 7/30\n",
            "437/439 [============================>.] - ETA: 0s - loss: 0.0516 - acc: 0.9850Epoch 1/30\n",
            "4200/439 [===============================================================================================================================================================================================================================================================================================] - 1s 123us/sample - loss: 0.0150 - acc: 0.9907\n",
            "439/439 [==============================] - 30s 69ms/step - loss: 0.0515 - acc: 0.9850 - val_loss: 0.0296 - val_acc: 0.9907\n",
            "Epoch 8/30\n",
            "438/439 [============================>.] - ETA: 0s - loss: 0.0496 - acc: 0.9849Epoch 1/30\n",
            "4200/439 [===============================================================================================================================================================================================================================================================================================] - 0s 113us/sample - loss: 0.0163 - acc: 0.9933\n",
            "439/439 [==============================] - 30s 68ms/step - loss: 0.0495 - acc: 0.9849 - val_loss: 0.0211 - val_acc: 0.9933\n",
            "Epoch 9/30\n",
            "437/439 [============================>.] - ETA: 0s - loss: 0.0460 - acc: 0.9864Epoch 1/30\n",
            "4200/439 [===============================================================================================================================================================================================================================================================================================] - 1s 123us/sample - loss: 0.0175 - acc: 0.9907\n",
            "\n",
            "Epoch 00009: ReduceLROnPlateau reducing learning rate to 0.0005000000237487257.\n",
            "439/439 [==============================] - 29s 67ms/step - loss: 0.0460 - acc: 0.9865 - val_loss: 0.0332 - val_acc: 0.9907\n",
            "Epoch 10/30\n",
            "438/439 [============================>.] - ETA: 0s - loss: 0.0351 - acc: 0.9896Epoch 1/30\n",
            "4200/439 [===============================================================================================================================================================================================================================================================================================] - 0s 114us/sample - loss: 0.0134 - acc: 0.9921\n",
            "439/439 [==============================] - 30s 68ms/step - loss: 0.0352 - acc: 0.9896 - val_loss: 0.0260 - val_acc: 0.9921\n",
            "Epoch 11/30\n",
            "438/439 [============================>.] - ETA: 0s - loss: 0.0347 - acc: 0.9895Epoch 1/30\n",
            "4200/439 [===============================================================================================================================================================================================================================================================================================] - 0s 117us/sample - loss: 0.0125 - acc: 0.9926\n",
            "439/439 [==============================] - 29s 66ms/step - loss: 0.0348 - acc: 0.9895 - val_loss: 0.0228 - val_acc: 0.9926\n",
            "Epoch 12/30\n",
            "438/439 [============================>.] - ETA: 0s - loss: 0.0345 - acc: 0.9899Epoch 1/30\n",
            "4200/439 [===============================================================================================================================================================================================================================================================================================] - 0s 117us/sample - loss: 0.0108 - acc: 0.9945\n",
            "439/439 [==============================] - 30s 67ms/step - loss: 0.0345 - acc: 0.9899 - val_loss: 0.0193 - val_acc: 0.9945\n",
            "Epoch 13/30\n",
            "438/439 [============================>.] - ETA: 0s - loss: 0.0306 - acc: 0.9909Epoch 1/30\n",
            "4200/439 [===============================================================================================================================================================================================================================================================================================] - 0s 118us/sample - loss: 0.0093 - acc: 0.9945\n",
            "439/439 [==============================] - 30s 68ms/step - loss: 0.0306 - acc: 0.9908 - val_loss: 0.0149 - val_acc: 0.9945\n",
            "Epoch 14/30\n",
            "438/439 [============================>.] - ETA: 0s - loss: 0.0324 - acc: 0.9906Epoch 1/30\n",
            "4200/439 [===============================================================================================================================================================================================================================================================================================] - 0s 114us/sample - loss: 0.0101 - acc: 0.9950\n",
            "439/439 [==============================] - 29s 66ms/step - loss: 0.0324 - acc: 0.9906 - val_loss: 0.0161 - val_acc: 0.9950\n",
            "Epoch 15/30\n",
            "438/439 [============================>.] - ETA: 0s - loss: 0.0330 - acc: 0.9905Epoch 1/30\n",
            "4200/439 [===============================================================================================================================================================================================================================================================================================] - 1s 123us/sample - loss: 0.0124 - acc: 0.9945\n",
            "439/439 [==============================] - 29s 66ms/step - loss: 0.0330 - acc: 0.9905 - val_loss: 0.0181 - val_acc: 0.9945\n",
            "Epoch 16/30\n",
            "438/439 [============================>.] - ETA: 0s - loss: 0.0317 - acc: 0.9908Epoch 1/30\n",
            "4200/439 [===============================================================================================================================================================================================================================================================================================] - 0s 115us/sample - loss: 0.0144 - acc: 0.9955\n",
            "439/439 [==============================] - 29s 67ms/step - loss: 0.0317 - acc: 0.9907 - val_loss: 0.0157 - val_acc: 0.9955\n",
            "Epoch 17/30\n",
            "438/439 [============================>.] - ETA: 0s - loss: 0.0302 - acc: 0.9912Epoch 1/30\n",
            "4200/439 [===============================================================================================================================================================================================================================================================================================] - 0s 114us/sample - loss: 0.0216 - acc: 0.9933\n",
            "439/439 [==============================] - 30s 68ms/step - loss: 0.0302 - acc: 0.9912 - val_loss: 0.0222 - val_acc: 0.9933\n",
            "Epoch 18/30\n",
            "438/439 [============================>.] - ETA: 0s - loss: 0.0327 - acc: 0.9906Epoch 1/30\n",
            "4200/439 [===============================================================================================================================================================================================================================================================================================] - 0s 116us/sample - loss: 0.0103 - acc: 0.9955\n",
            "439/439 [==============================] - 29s 67ms/step - loss: 0.0326 - acc: 0.9907 - val_loss: 0.0189 - val_acc: 0.9955\n",
            "Epoch 19/30\n",
            "438/439 [============================>.] - ETA: 0s - loss: 0.0322 - acc: 0.9903Epoch 1/30\n",
            "4200/439 [===============================================================================================================================================================================================================================================================================================] - 0s 113us/sample - loss: 0.0091 - acc: 0.9945\n",
            "\n",
            "Epoch 00019: ReduceLROnPlateau reducing learning rate to 0.0002500000118743628.\n",
            "439/439 [==============================] - 29s 65ms/step - loss: 0.0322 - acc: 0.9903 - val_loss: 0.0181 - val_acc: 0.9945\n",
            "Epoch 20/30\n",
            "438/439 [============================>.] - ETA: 0s - loss: 0.0295 - acc: 0.9915Epoch 1/30\n",
            "4200/439 [===============================================================================================================================================================================================================================================================================================] - 0s 113us/sample - loss: 0.0117 - acc: 0.9952\n",
            "439/439 [==============================] - 29s 66ms/step - loss: 0.0294 - acc: 0.9915 - val_loss: 0.0170 - val_acc: 0.9952\n",
            "Epoch 21/30\n",
            "438/439 [============================>.] - ETA: 0s - loss: 0.0278 - acc: 0.9921Epoch 1/30\n",
            "4200/439 [===============================================================================================================================================================================================================================================================================================] - 0s 113us/sample - loss: 0.0206 - acc: 0.9962\n",
            "439/439 [==============================] - 29s 67ms/step - loss: 0.0280 - acc: 0.9920 - val_loss: 0.0150 - val_acc: 0.9962\n",
            "Epoch 22/30\n",
            "438/439 [============================>.] - ETA: 0s - loss: 0.0254 - acc: 0.9930Epoch 1/30\n",
            "4200/439 [===============================================================================================================================================================================================================================================================================================] - 1s 120us/sample - loss: 0.0128 - acc: 0.9952\n",
            "439/439 [==============================] - 29s 66ms/step - loss: 0.0254 - acc: 0.9930 - val_loss: 0.0168 - val_acc: 0.9952\n",
            "Epoch 23/30\n",
            "438/439 [============================>.] - ETA: 0s - loss: 0.0259 - acc: 0.9922Epoch 1/30\n",
            "4200/439 [===============================================================================================================================================================================================================================================================================================] - 0s 112us/sample - loss: 0.0234 - acc: 0.9955\n",
            "439/439 [==============================] - 28s 65ms/step - loss: 0.0259 - acc: 0.9922 - val_loss: 0.0182 - val_acc: 0.9955\n",
            "Epoch 24/30\n",
            "438/439 [============================>.] - ETA: 0s - loss: 0.0246 - acc: 0.9925Epoch 1/30\n",
            "4200/439 [===============================================================================================================================================================================================================================================================================================] - 1s 125us/sample - loss: 0.0176 - acc: 0.9945\n",
            "\n",
            "Epoch 00024: ReduceLROnPlateau reducing learning rate to 0.0001250000059371814.\n",
            "439/439 [==============================] - 29s 67ms/step - loss: 0.0250 - acc: 0.9924 - val_loss: 0.0227 - val_acc: 0.9945\n",
            "Epoch 25/30\n",
            "438/439 [============================>.] - ETA: 0s - loss: 0.0231 - acc: 0.9934Epoch 1/30\n",
            "4200/439 [===============================================================================================================================================================================================================================================================================================] - 0s 113us/sample - loss: 0.0135 - acc: 0.9960\n",
            "439/439 [==============================] - 30s 69ms/step - loss: 0.0231 - acc: 0.9934 - val_loss: 0.0171 - val_acc: 0.9960\n",
            "Epoch 26/30\n",
            "438/439 [============================>.] - ETA: 0s - loss: 0.0221 - acc: 0.9935Epoch 1/30\n",
            "4200/439 [===============================================================================================================================================================================================================================================================================================] - 1s 121us/sample - loss: 0.0109 - acc: 0.9957\n",
            "439/439 [==============================] - 29s 66ms/step - loss: 0.0221 - acc: 0.9935 - val_loss: 0.0170 - val_acc: 0.9957\n",
            "Epoch 27/30\n",
            "438/439 [============================>.] - ETA: 0s - loss: 0.0223 - acc: 0.9932Epoch 1/30\n",
            "4200/439 [===============================================================================================================================================================================================================================================================================================] - 0s 115us/sample - loss: 0.0139 - acc: 0.9948\n",
            "\n",
            "Epoch 00027: ReduceLROnPlateau reducing learning rate to 6.25000029685907e-05.\n",
            "439/439 [==============================] - 29s 66ms/step - loss: 0.0223 - acc: 0.9932 - val_loss: 0.0192 - val_acc: 0.9948\n",
            "Epoch 28/30\n",
            "438/439 [============================>.] - ETA: 0s - loss: 0.0189 - acc: 0.9942Epoch 1/30\n",
            "4200/439 [===============================================================================================================================================================================================================================================================================================] - 1s 124us/sample - loss: 0.0175 - acc: 0.9962\n",
            "439/439 [==============================] - 30s 69ms/step - loss: 0.0189 - acc: 0.9942 - val_loss: 0.0160 - val_acc: 0.9962\n",
            "Epoch 29/30\n",
            "438/439 [============================>.] - ETA: 0s - loss: 0.0217 - acc: 0.9938Epoch 1/30\n",
            "4200/439 [===============================================================================================================================================================================================================================================================================================] - 0s 114us/sample - loss: 0.0142 - acc: 0.9960\n",
            "439/439 [==============================] - 30s 68ms/step - loss: 0.0217 - acc: 0.9938 - val_loss: 0.0165 - val_acc: 0.9960\n",
            "Epoch 30/30\n",
            "438/439 [============================>.] - ETA: 0s - loss: 0.0204 - acc: 0.9934Epoch 1/30\n",
            "4200/439 [===============================================================================================================================================================================================================================================================================================] - 1s 122us/sample - loss: 0.0175 - acc: 0.9964\n",
            "439/439 [==============================] - 30s 68ms/step - loss: 0.0205 - acc: 0.9934 - val_loss: 0.0164 - val_acc: 0.9964\n"
          ],
          "name": "stdout"
        }
      ]
    },
    {
      "cell_type": "markdown",
      "metadata": {
        "id": "NqfDeO7v_Akp",
        "colab_type": "text"
      },
      "source": [
        "### 4.2 Learning Curve"
      ]
    },
    {
      "cell_type": "code",
      "metadata": {
        "id": "PMKZhU75z-b6",
        "colab_type": "code",
        "outputId": "c442dbcb-88d1-49bf-ecd5-b0d6edc618db",
        "colab": {
          "base_uri": "https://localhost:8080/",
          "height": 268
        }
      },
      "source": [
        "# Plot the loss and accuracy curves for training and validation \n",
        "fig, ax = plt.subplots(2,1)\n",
        "ax[0].plot(history.history['loss'], color='b', label=\"Training loss\")\n",
        "ax[0].plot(history.history['val_loss'], color='r', label=\"validation loss\",axes =ax[0])\n",
        "legend = ax[0].legend(loc='best', shadow=True)\n",
        "\n",
        "ax[1].plot(history.history['acc'], color='b', label=\"Training accuracy\")\n",
        "ax[1].plot(history.history['val_acc'], color='r',label=\"Validation accuracy\")\n",
        "legend = ax[1].legend(loc='best', shadow=True)"
      ],
      "execution_count": 0,
      "outputs": [
        {
          "output_type": "display_data",
          "data": {
            "image/png": "[encoded data removed]",
            "text/plain": [
              "<Figure size 432x288 with 2 Axes>"
            ]
          },
          "metadata": {
            "tags": []
          }
        }
      ]
    },
    {
      "cell_type": "markdown",
      "metadata": {
        "id": "oTsAl3Ur3n9d",
        "colab_type": "text"
      },
      "source": [
        "### 4.3 Confusion Matrix Plotting\n",
        "It is used for grphical representation of performance of the model. It shows the performance of Model in predicting every class."
      ]
    },
    {
      "cell_type": "code",
      "metadata": {
        "_execution_state": "idle",
        "_uuid": "16e161179bf1b51ba66c39b2cead883f1db3a9c7",
        "_cell_guid": "11361e73-8250-4bf5-a353-b0f8ea83e659",
        "trusted": false,
        "id": "IK6-TyagG4G4",
        "colab_type": "code",
        "outputId": "d104ce2d-b241-43cd-9632-0963e0c6e7d2",
        "colab": {
          "base_uri": "https://localhost:8080/",
          "height": 310
        }
      },
      "source": [
        "# Look at confusion matrix \n",
        "\n",
        "def plot_confusion_matrix(cm, classes,\n",
        "                          normalize=False,\n",
        "                          title='Confusion matrix',\n",
        "                          cmap=plt.cm.Blues):\n",
        "    \"\"\"\n",
        "    This function prints and plots the confusion matrix.\n",
        "    Normalization can be applied by setting `normalize=True`.\n",
        "    \"\"\"\n",
        "    plt.imshow(cm, interpolation='nearest', cmap=cmap)\n",
        "    plt.title(title)\n",
        "    plt.colorbar()\n",
        "    tick_marks = np.arange(len(classes))\n",
        "    plt.xticks(tick_marks, classes, rotation=45)\n",
        "    plt.yticks(tick_marks, classes)\n",
        "\n",
        "    if normalize:\n",
        "        cm = cm.astype('float') / cm.sum(axis=1)[:, np.newaxis]\n",
        "\n",
        "    thresh = cm.max() / 2.\n",
        "    for i, j in itertools.product(range(cm.shape[0]), range(cm.shape[1])):\n",
        "        plt.text(j, i, cm[i, j],\n",
        "                 horizontalalignment=\"center\",\n",
        "                 color=\"white\" if cm[i, j] > thresh else \"black\")\n",
        "\n",
        "    plt.tight_layout()\n",
        "    plt.ylabel('True label')\n",
        "    plt.xlabel('Predicted label')\n",
        "\n",
        "# Predict the values from the validation dataset\n",
        "Y_pred = model.predict(X_val)\n",
        "# Convert predictions classes to one hot vectors \n",
        "Y_pred_classes = np.argmax(Y_pred,axis = 1) \n",
        "# Convert validation observations to one hot vectors\n",
        "Y_true = np.argmax(Y_val,axis = 1) \n",
        "# compute the confusion matrix\n",
        "confusion_mtx = confusion_matrix(Y_true, Y_pred_classes) \n",
        "# plot the confusion matrix\n",
        "plot_confusion_matrix(confusion_mtx, classes = range(10)) "
      ],
      "execution_count": 0,
      "outputs": [
        {
          "output_type": "display_data",
          "data": {
            "image/png": "[encoded data removed]",
            "text/plain": [
              "<Figure size 432x288 with 2 Axes>"
            ]
          },
          "metadata": {
            "tags": []
          }
        }
      ]
    },
    {
      "cell_type": "markdown",
      "metadata": {
        "id": "DZqd6fvr_Y9n",
        "colab_type": "text"
      },
      "source": [
        "### 4.4 Displaying Errors"
      ]
    },
    {
      "cell_type": "code",
      "metadata": {
        "_execution_state": "idle",
        "_uuid": "e7a3d6449b499a29db224e42e950f21ca1ec4e36",
        "_cell_guid": "7b0f31b8-c18b-4529-b0d8-eb4c31e30bbf",
        "trusted": false,
        "id": "tV4wnLTQG4G8",
        "colab_type": "code",
        "outputId": "89851798-528c-4f2a-82da-740b7747911d",
        "colab": {
          "base_uri": "https://localhost:8080/",
          "height": 283
        }
      },
      "source": [
        "# Display some error results \n",
        "\n",
        "# Errors are difference between predicted labels and true labels\n",
        "errors = (Y_pred_classes - Y_true != 0)\n",
        "\n",
        "Y_pred_classes_errors = Y_pred_classes[errors]\n",
        "Y_pred_errors = Y_pred[errors]\n",
        "Y_true_errors = Y_true[errors]\n",
        "X_val_errors = X_val[errors]\n",
        "\n",
        "def display_errors(errors_index,img_errors,pred_errors, obs_errors):\n",
        "    \"\"\" This function shows 6 images with their predicted and real labels\"\"\"\n",
        "    n = 0\n",
        "    nrows = 2\n",
        "    ncols = 3\n",
        "    fig, ax = plt.subplots(nrows,ncols,sharex=True,sharey=True)\n",
        "    for row in range(nrows):\n",
        "        for col in range(ncols):\n",
        "            error = errors_index[n]\n",
        "            ax[row,col].imshow((img_errors[error]).reshape((28,28)))\n",
        "            ax[row,col].set_title(\"Predicted :{} True :{}\".format(pred_errors[error],obs_errors[error]))\n",
        "            n += 1\n",
        "\n",
        "# Probabilities of the wrong predicted numbers\n",
        "Y_pred_errors_prob = np.max(Y_pred_errors,axis = 1)\n",
        "\n",
        "# Predicted probabilities of the true values in the error set\n",
        "true_prob_errors = np.diagonal(np.take(Y_pred_errors, Y_true_errors, axis=1))\n",
        "\n",
        "# Difference between the probability of the predicted label and the true label\n",
        "delta_pred_true_errors = Y_pred_errors_prob - true_prob_errors\n",
        "\n",
        "# Sorted list of the delta prob errors\n",
        "sorted_dela_errors = np.argsort(delta_pred_true_errors)\n",
        "\n",
        "# Top 6 errors \n",
        "most_important_errors = sorted_dela_errors[-6:]\n",
        "\n",
        "# Show the top 6 errors\n",
        "display_errors(most_important_errors, X_val_errors, Y_pred_classes_errors, Y_true_errors)"
      ],
      "execution_count": 0,
      "outputs": [
        {
          "output_type": "display_data",
          "data": {
            "image/png": "[encoded data removed]",
            "text/plain": [
              "<Figure size 432x288 with 6 Axes>"
            ]
          },
          "metadata": {
            "tags": []
          }
        }
      ]
    },
    {
      "cell_type": "markdown",
      "metadata": {
        "id": "xnxxdQbm_hhi",
        "colab_type": "text"
      },
      "source": [
        "## 5. Model Saving"
      ]
    },
    {
      "cell_type": "code",
      "metadata": {
        "id": "Rn9BMVz8CHT_",
        "colab_type": "code",
        "colab": {}
      },
      "source": [
        "model.save('model_python.hdf5')"
      ],
      "execution_count": 0,
      "outputs": []
    },
    {
      "cell_type": "code",
      "metadata": {
        "id": "wGCmpb2Pr9TP",
        "colab_type": "code",
        "outputId": "4625f63e-38e9-4a45-e668-42db6ef9cbe8",
        "colab": {
          "base_uri": "https://localhost:8080/",
          "height": 751
        }
      },
      "source": [
        "!pip install tensorflowjs\n",
        "import tensorflowjs as tfjs\n",
        "\n",
        "tfjs.converters.save_keras_model(model, '/content/models')"
      ],
      "execution_count": 0,
      "outputs": [
        {
          "output_type": "stream",
          "text": [
            "Requirement already satisfied: tensorflowjs in /usr/local/lib/python3.6/dist-packages (1.6.0)\n",
            "Requirement already satisfied: six>=1.12.0 in /usr/local/lib/python3.6/dist-packages (from tensorflowjs) (1.12.0)\n",
            "Requirement already satisfied: numpy>=1.16.4 in /usr/local/lib/python3.6/dist-packages (from tensorflowjs) (1.18.2)\n",
            "Requirement already satisfied: h5py>=2.8.0 in /usr/local/lib/python3.6/dist-packages (from tensorflowjs) (2.8.0)\n",
            "Requirement already satisfied: PyInquirer==1.0.3 in /usr/local/lib/python3.6/dist-packages (from tensorflowjs) (1.0.3)\n",
            "Requirement already satisfied: tensorflow-cpu==2.1.0 in /usr/local/lib/python3.6/dist-packages (from tensorflowjs) (2.1.0)\n",
            "Requirement already satisfied: gast==0.2.2 in /usr/local/lib/python3.6/dist-packages (from tensorflowjs) (0.2.2)\n",
            "Requirement already satisfied: tensorflow-hub==0.7.0 in /usr/local/lib/python3.6/dist-packages (from tensorflowjs) (0.7.0)\n",
            "Requirement already satisfied: Pygments>=2.2.0 in /usr/local/lib/python3.6/dist-packages (from PyInquirer==1.0.3->tensorflowjs) (2.6.1)\n",
            "Requirement already satisfied: regex>=2016.11.21 in /usr/local/lib/python3.6/dist-packages (from PyInquirer==1.0.3->tensorflowjs) (2019.12.20)\n",
            "Requirement already satisfied: prompt-toolkit==1.0.14 in /usr/local/lib/python3.6/dist-packages (from PyInquirer==1.0.3->tensorflowjs) (1.0.14)\n",
            "Requirement already satisfied: tensorflow-estimator<2.2.0,>=2.1.0rc0 in /usr/local/lib/python3.6/dist-packages (from tensorflow-cpu==2.1.0->tensorflowjs) (2.1.0)\n",
            "Requirement already satisfied: tensorboard<2.2.0,>=2.1.0 in /usr/local/lib/python3.6/dist-packages (from tensorflow-cpu==2.1.0->tensorflowjs) (2.1.1)\n",
            "Requirement already satisfied: wrapt>=1.11.1 in /usr/local/lib/python3.6/dist-packages (from tensorflow-cpu==2.1.0->tensorflowjs) (1.12.1)\n",
            "Requirement already satisfied: absl-py>=0.7.0 in /usr/local/lib/python3.6/dist-packages (from tensorflow-cpu==2.1.0->tensorflowjs) (0.9.0)\n",
            "Requirement already satisfied: opt-einsum>=2.3.2 in /usr/local/lib/python3.6/dist-packages (from tensorflow-cpu==2.1.0->tensorflowjs) (3.2.0)\n",
            "Requirement already satisfied: keras-preprocessing>=1.1.0 in /usr/local/lib/python3.6/dist-packages (from tensorflow-cpu==2.1.0->tensorflowjs) (1.1.0)\n",
            "Requirement already satisfied: astor>=0.6.0 in /usr/local/lib/python3.6/dist-packages (from tensorflow-cpu==2.1.0->tensorflowjs) (0.8.1)\n",
            "Requirement already satisfied: grpcio>=1.8.6 in /usr/local/lib/python3.6/dist-packages (from tensorflow-cpu==2.1.0->tensorflowjs) (1.24.3)\n",
            "Requirement already satisfied: protobuf>=3.8.0 in /usr/local/lib/python3.6/dist-packages (from tensorflow-cpu==2.1.0->tensorflowjs) (3.10.0)\n",
            "Requirement already satisfied: keras-applications>=1.0.8 in /usr/local/lib/python3.6/dist-packages (from tensorflow-cpu==2.1.0->tensorflowjs) (1.0.8)\n",
            "Requirement already satisfied: wheel>=0.26; python_version >= \"3\" in /usr/local/lib/python3.6/dist-packages (from tensorflow-cpu==2.1.0->tensorflowjs) (0.34.2)\n",
            "Requirement already satisfied: google-pasta>=0.1.6 in /usr/local/lib/python3.6/dist-packages (from tensorflow-cpu==2.1.0->tensorflowjs) (0.2.0)\n",
            "Requirement already satisfied: scipy==1.4.1; python_version >= \"3\" in /usr/local/lib/python3.6/dist-packages (from tensorflow-cpu==2.1.0->tensorflowjs) (1.4.1)\n",
            "Requirement already satisfied: termcolor>=1.1.0 in /usr/local/lib/python3.6/dist-packages (from tensorflow-cpu==2.1.0->tensorflowjs) (1.1.0)\n",
            "Requirement already satisfied: wcwidth in /usr/local/lib/python3.6/dist-packages (from prompt-toolkit==1.0.14->PyInquirer==1.0.3->tensorflowjs) (0.1.8)\n",
            "Requirement already satisfied: google-auth<2,>=1.6.3 in /usr/local/lib/python3.6/dist-packages (from tensorboard<2.2.0,>=2.1.0->tensorflow-cpu==2.1.0->tensorflowjs) (1.7.2)\n",
            "Requirement already satisfied: markdown>=2.6.8 in /usr/local/lib/python3.6/dist-packages (from tensorboard<2.2.0,>=2.1.0->tensorflow-cpu==2.1.0->tensorflowjs) (3.2.1)\n",
            "Requirement already satisfied: werkzeug>=0.11.15 in /usr/local/lib/python3.6/dist-packages (from tensorboard<2.2.0,>=2.1.0->tensorflow-cpu==2.1.0->tensorflowjs) (1.0.0)\n",
            "Requirement already satisfied: requests<3,>=2.21.0 in /usr/local/lib/python3.6/dist-packages (from tensorboard<2.2.0,>=2.1.0->tensorflow-cpu==2.1.0->tensorflowjs) (2.21.0)\n",
            "Requirement already satisfied: google-auth-oauthlib<0.5,>=0.4.1 in /usr/local/lib/python3.6/dist-packages (from tensorboard<2.2.0,>=2.1.0->tensorflow-cpu==2.1.0->tensorflowjs) (0.4.1)\n",
            "Requirement already satisfied: setuptools>=41.0.0 in /usr/local/lib/python3.6/dist-packages (from tensorboard<2.2.0,>=2.1.0->tensorflow-cpu==2.1.0->tensorflowjs) (46.0.0)\n",
            "Requirement already satisfied: cachetools<3.2,>=2.0.0 in /usr/local/lib/python3.6/dist-packages (from google-auth<2,>=1.6.3->tensorboard<2.2.0,>=2.1.0->tensorflow-cpu==2.1.0->tensorflowjs) (3.1.1)\n",
            "Requirement already satisfied: pyasn1-modules>=0.2.1 in /usr/local/lib/python3.6/dist-packages (from google-auth<2,>=1.6.3->tensorboard<2.2.0,>=2.1.0->tensorflow-cpu==2.1.0->tensorflowjs) (0.2.8)\n",
            "Requirement already satisfied: rsa<4.1,>=3.1.4 in /usr/local/lib/python3.6/dist-packages (from google-auth<2,>=1.6.3->tensorboard<2.2.0,>=2.1.0->tensorflow-cpu==2.1.0->tensorflowjs) (4.0)\n",
            "Requirement already satisfied: certifi>=2017.4.17 in /usr/local/lib/python3.6/dist-packages (from requests<3,>=2.21.0->tensorboard<2.2.0,>=2.1.0->tensorflow-cpu==2.1.0->tensorflowjs) (2019.11.28)\n",
            "Requirement already satisfied: urllib3<1.25,>=1.21.1 in /usr/local/lib/python3.6/dist-packages (from requests<3,>=2.21.0->tensorboard<2.2.0,>=2.1.0->tensorflow-cpu==2.1.0->tensorflowjs) (1.24.3)\n",
            "Requirement already satisfied: idna<2.9,>=2.5 in /usr/local/lib/python3.6/dist-packages (from requests<3,>=2.21.0->tensorboard<2.2.0,>=2.1.0->tensorflow-cpu==2.1.0->tensorflowjs) (2.8)\n",
            "Requirement already satisfied: chardet<3.1.0,>=3.0.2 in /usr/local/lib/python3.6/dist-packages (from requests<3,>=2.21.0->tensorboard<2.2.0,>=2.1.0->tensorflow-cpu==2.1.0->tensorflowjs) (3.0.4)\n",
            "Requirement already satisfied: requests-oauthlib>=0.7.0 in /usr/local/lib/python3.6/dist-packages (from google-auth-oauthlib<0.5,>=0.4.1->tensorboard<2.2.0,>=2.1.0->tensorflow-cpu==2.1.0->tensorflowjs) (1.3.0)\n",
            "Requirement already satisfied: pyasn1<0.5.0,>=0.4.6 in /usr/local/lib/python3.6/dist-packages (from pyasn1-modules>=0.2.1->google-auth<2,>=1.6.3->tensorboard<2.2.0,>=2.1.0->tensorflow-cpu==2.1.0->tensorflowjs) (0.4.8)\n",
            "Requirement already satisfied: oauthlib>=3.0.0 in /usr/local/lib/python3.6/dist-packages (from requests-oauthlib>=0.7.0->google-auth-oauthlib<0.5,>=0.4.1->tensorboard<2.2.0,>=2.1.0->tensorflow-cpu==2.1.0->tensorflowjs) (3.1.0)\n"
          ],
          "name": "stdout"
        }
      ]
    },
    {
      "cell_type": "code",
      "metadata": {
        "id": "p0RaC1frZ-of",
        "colab_type": "code",
        "colab": {}
      },
      "source": [
        ""
      ],
      "execution_count": 0,
      "outputs": []
    }
  ]
}
